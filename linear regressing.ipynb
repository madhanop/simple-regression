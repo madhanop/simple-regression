{
 "cells": [
  {
   "cell_type": "code",
   "execution_count": 1,
   "id": "611a34a7",
   "metadata": {},
   "outputs": [],
   "source": [
    "import numpy as np\n",
    "import  pandas as pd\n",
    "import matplotlib.pyplot as plt\n",
    "import seaborn as sns\n"
   ]
  },
  {
   "cell_type": "code",
   "execution_count": 3,
   "id": "2b05e98a",
   "metadata": {},
   "outputs": [
    {
     "data": {
      "text/html": [
       "<div>\n",
       "<style scoped>\n",
       "    .dataframe tbody tr th:only-of-type {\n",
       "        vertical-align: middle;\n",
       "    }\n",
       "\n",
       "    .dataframe tbody tr th {\n",
       "        vertical-align: top;\n",
       "    }\n",
       "\n",
       "    .dataframe thead th {\n",
       "        text-align: right;\n",
       "    }\n",
       "</style>\n",
       "<table border=\"1\" class=\"dataframe\">\n",
       "  <thead>\n",
       "    <tr style=\"text-align: right;\">\n",
       "      <th></th>\n",
       "      <th>instant</th>\n",
       "      <th>date</th>\n",
       "      <th>season</th>\n",
       "      <th>yr</th>\n",
       "      <th>mnth</th>\n",
       "      <th>weekday</th>\n",
       "      <th>weathersit</th>\n",
       "      <th>temp</th>\n",
       "      <th>atemp</th>\n",
       "      <th>hum</th>\n",
       "      <th>windspeed</th>\n",
       "      <th>casual</th>\n",
       "      <th>registered</th>\n",
       "      <th>cnt</th>\n",
       "    </tr>\n",
       "  </thead>\n",
       "  <tbody>\n",
       "    <tr>\n",
       "      <th>0</th>\n",
       "      <td>1</td>\n",
       "      <td>1/1/2011</td>\n",
       "      <td>1</td>\n",
       "      <td>0</td>\n",
       "      <td>1</td>\n",
       "      <td>6</td>\n",
       "      <td>2</td>\n",
       "      <td>0.344167</td>\n",
       "      <td>0.363625</td>\n",
       "      <td>0.805833</td>\n",
       "      <td>0.160446</td>\n",
       "      <td>331</td>\n",
       "      <td>654</td>\n",
       "      <td>985</td>\n",
       "    </tr>\n",
       "    <tr>\n",
       "      <th>1</th>\n",
       "      <td>2</td>\n",
       "      <td>1/2/2011</td>\n",
       "      <td>1</td>\n",
       "      <td>0</td>\n",
       "      <td>1</td>\n",
       "      <td>0</td>\n",
       "      <td>2</td>\n",
       "      <td>0.363478</td>\n",
       "      <td>0.353739</td>\n",
       "      <td>0.696087</td>\n",
       "      <td>0.248539</td>\n",
       "      <td>131</td>\n",
       "      <td>670</td>\n",
       "      <td>801</td>\n",
       "    </tr>\n",
       "    <tr>\n",
       "      <th>2</th>\n",
       "      <td>3</td>\n",
       "      <td>1/3/2011</td>\n",
       "      <td>1</td>\n",
       "      <td>0</td>\n",
       "      <td>1</td>\n",
       "      <td>1</td>\n",
       "      <td>1</td>\n",
       "      <td>0.196364</td>\n",
       "      <td>0.189405</td>\n",
       "      <td>0.437273</td>\n",
       "      <td>0.248309</td>\n",
       "      <td>120</td>\n",
       "      <td>1229</td>\n",
       "      <td>1349</td>\n",
       "    </tr>\n",
       "    <tr>\n",
       "      <th>3</th>\n",
       "      <td>4</td>\n",
       "      <td>1/4/2011</td>\n",
       "      <td>1</td>\n",
       "      <td>0</td>\n",
       "      <td>1</td>\n",
       "      <td>2</td>\n",
       "      <td>1</td>\n",
       "      <td>0.200000</td>\n",
       "      <td>0.212122</td>\n",
       "      <td>0.590435</td>\n",
       "      <td>0.160296</td>\n",
       "      <td>108</td>\n",
       "      <td>1454</td>\n",
       "      <td>1562</td>\n",
       "    </tr>\n",
       "    <tr>\n",
       "      <th>4</th>\n",
       "      <td>5</td>\n",
       "      <td>1/5/2011</td>\n",
       "      <td>1</td>\n",
       "      <td>0</td>\n",
       "      <td>1</td>\n",
       "      <td>3</td>\n",
       "      <td>1</td>\n",
       "      <td>0.226957</td>\n",
       "      <td>0.229270</td>\n",
       "      <td>0.436957</td>\n",
       "      <td>0.186900</td>\n",
       "      <td>82</td>\n",
       "      <td>1518</td>\n",
       "      <td>1600</td>\n",
       "    </tr>\n",
       "  </tbody>\n",
       "</table>\n",
       "</div>"
      ],
      "text/plain": [
       "   instant      date  season  yr  mnth  weekday  weathersit      temp  \\\n",
       "0        1  1/1/2011       1   0     1        6           2  0.344167   \n",
       "1        2  1/2/2011       1   0     1        0           2  0.363478   \n",
       "2        3  1/3/2011       1   0     1        1           1  0.196364   \n",
       "3        4  1/4/2011       1   0     1        2           1  0.200000   \n",
       "4        5  1/5/2011       1   0     1        3           1  0.226957   \n",
       "\n",
       "      atemp       hum  windspeed  casual  registered   cnt  \n",
       "0  0.363625  0.805833   0.160446     331         654   985  \n",
       "1  0.353739  0.696087   0.248539     131         670   801  \n",
       "2  0.189405  0.437273   0.248309     120        1229  1349  \n",
       "3  0.212122  0.590435   0.160296     108        1454  1562  \n",
       "4  0.229270  0.436957   0.186900      82        1518  1600  "
      ]
     },
     "execution_count": 3,
     "metadata": {},
     "output_type": "execute_result"
    }
   ],
   "source": [
    "data=pd.read_csv(\"https://raw.githubusercontent.com/Azure/MachineLearningNotebooks/master/how-to-use-azureml/automated-machine-learning/forecasting-bike-share/bike-no.csv\")\n",
    "data.head()"
   ]
  },
  {
   "cell_type": "code",
   "execution_count": 5,
   "id": "5f3a6eba",
   "metadata": {},
   "outputs": [
    {
     "data": {
      "text/plain": [
       "<seaborn.axisgrid.FacetGrid at 0x1e1b61f6100>"
      ]
     },
     "execution_count": 5,
     "metadata": {},
     "output_type": "execute_result"
    },
    {
     "data": {
      "image/png": "[encoded data removed]",
      "text/plain": [
       "<Figure size 504x576 with 1 Axes>"
      ]
     },
     "metadata": {
      "needs_background": "light"
     },
     "output_type": "display_data"
    },
    {
     "data": {
      "image/png": "[encoded data removed]",
      "text/plain": [
       "<Figure size 360x360 with 1 Axes>"
      ]
     },
     "metadata": {
      "needs_background": "light"
     },
     "output_type": "display_data"
    }
   ],
   "source": [
    "plt.figure(figsize=(7,8))\n",
    "sns.countplot(x=\"weekday\",data=data)\n",
    "sns.catplot(x=\"weekday\",y=\"registered\",data=data)\n"
   ]
  },
  {
   "cell_type": "code",
   "execution_count": 6,
   "id": "2d07d9ff",
   "metadata": {},
   "outputs": [
    {
     "data": {
      "text/plain": [
       "{'whiskers': [<matplotlib.lines.Line2D at 0x1e1b60e3520>,\n",
       "  <matplotlib.lines.Line2D at 0x1e1b60e37f0>],\n",
       " 'caps': [<matplotlib.lines.Line2D at 0x1e1b60e3b80>,\n",
       "  <matplotlib.lines.Line2D at 0x1e1b60e3f10>],\n",
       " 'boxes': [<matplotlib.lines.Line2D at 0x1e1b60e30d0>],\n",
       " 'medians': [<matplotlib.lines.Line2D at 0x1e1b60ed2e0>],\n",
       " 'fliers': [<matplotlib.lines.Line2D at 0x1e1b60ed670>],\n",
       " 'means': []}"
      ]
     },
     "execution_count": 6,
     "metadata": {},
     "output_type": "execute_result"
    },
    {
     "data": {
      "image/png": "[encoded data removed]",
      "text/plain": [
       "<Figure size 432x288 with 1 Axes>"
      ]
     },
     "metadata": {
      "needs_background": "light"
     },
     "output_type": "display_data"
    }
   ],
   "source": [
    "plt.boxplot(data.weekday)"
   ]
  },
  {
   "cell_type": "code",
   "execution_count": 7,
   "id": "d2483064",
   "metadata": {},
   "outputs": [
    {
     "data": {
      "text/plain": [
       "{'whiskers': [<matplotlib.lines.Line2D at 0x1e1b6231340>,\n",
       "  <matplotlib.lines.Line2D at 0x1e1b62316d0>],\n",
       " 'caps': [<matplotlib.lines.Line2D at 0x1e1b6231a60>,\n",
       "  <matplotlib.lines.Line2D at 0x1e1b6231df0>],\n",
       " 'boxes': [<matplotlib.lines.Line2D at 0x1e1b6142f70>],\n",
       " 'medians': [<matplotlib.lines.Line2D at 0x1e1b623f1c0>],\n",
       " 'fliers': [<matplotlib.lines.Line2D at 0x1e1b623f550>],\n",
       " 'means': []}"
      ]
     },
     "execution_count": 7,
     "metadata": {},
     "output_type": "execute_result"
    },
    {
     "data": {
      "image/png": "[encoded data removed]",
      "text/plain": [
       "<Figure size 432x288 with 1 Axes>"
      ]
     },
     "metadata": {
      "needs_background": "light"
     },
     "output_type": "display_data"
    }
   ],
   "source": [
    "plt.boxplot(data.registered)"
   ]
  },
  {
   "cell_type": "code",
   "execution_count": 9,
   "id": "df70243d",
   "metadata": {},
   "outputs": [
    {
     "data": {
      "text/plain": [
       "{'whiskers': [<matplotlib.lines.Line2D at 0x1e1b6392a90>,\n",
       "  <matplotlib.lines.Line2D at 0x1e1b6392e20>],\n",
       " 'caps': [<matplotlib.lines.Line2D at 0x1e1b63a1220>,\n",
       "  <matplotlib.lines.Line2D at 0x1e1b63a15b0>],\n",
       " 'boxes': [<matplotlib.lines.Line2D at 0x1e1b6392700>],\n",
       " 'medians': [<matplotlib.lines.Line2D at 0x1e1b63a1940>],\n",
       " 'fliers': [<matplotlib.lines.Line2D at 0x1e1b63a1cd0>],\n",
       " 'means': []}"
      ]
     },
     "execution_count": 9,
     "metadata": {},
     "output_type": "execute_result"
    },
    {
     "data": {
      "image/png": "[encoded data removed]",
      "text/plain": [
       "<Figure size 432x288 with 2 Axes>"
      ]
     },
     "metadata": {
      "needs_background": "light"
     },
     "output_type": "display_data"
    }
   ],
   "source": [
    "plt.subplot(1,2,1)\n",
    "plt.boxplot(data.weekday)\n",
    "plt.subplot(1,2,2)\n",
    "plt.boxplot(data.registered)"
   ]
  },
  {
   "cell_type": "code",
   "execution_count": 11,
   "id": "cfd18b8a",
   "metadata": {},
   "outputs": [],
   "source": [
    "train=data.iloc[0:731]"
   ]
  },
  {
   "cell_type": "code",
   "execution_count": 12,
   "id": "c8e51f86",
   "metadata": {},
   "outputs": [
    {
     "name": "stdout",
     "output_type": "stream",
     "text": [
      "     instant        date  season  yr  mnth  weekday  weathersit      temp  \\\n",
      "0          1    1/1/2011       1   0     1        6           2  0.344167   \n",
      "1          2    1/2/2011       1   0     1        0           2  0.363478   \n",
      "2          3    1/3/2011       1   0     1        1           1  0.196364   \n",
      "3          4    1/4/2011       1   0     1        2           1  0.200000   \n",
      "4          5    1/5/2011       1   0     1        3           1  0.226957   \n",
      "..       ...         ...     ...  ..   ...      ...         ...       ...   \n",
      "726      727  12/27/2012       1   1    12        4           2  0.254167   \n",
      "727      728  12/28/2012       1   1    12        5           2  0.253333   \n",
      "728      729  12/29/2012       1   1    12        6           2  0.253333   \n",
      "729      730  12/30/2012       1   1    12        0           1  0.255833   \n",
      "730      731  12/31/2012       1   1    12        1           2  0.215833   \n",
      "\n",
      "        atemp       hum  windspeed  casual  registered   cnt  \n",
      "0    0.363625  0.805833   0.160446     331         654   985  \n",
      "1    0.353739  0.696087   0.248539     131         670   801  \n",
      "2    0.189405  0.437273   0.248309     120        1229  1349  \n",
      "3    0.212122  0.590435   0.160296     108        1454  1562  \n",
      "4    0.229270  0.436957   0.186900      82        1518  1600  \n",
      "..        ...       ...        ...     ...         ...   ...  \n",
      "726  0.226642  0.652917   0.350133     247        1867  2114  \n",
      "727  0.255046  0.590000   0.155471     644        2451  3095  \n",
      "728  0.242400  0.752917   0.124383     159        1182  1341  \n",
      "729  0.231700  0.483333   0.350754     364        1432  1796  \n",
      "730  0.223487  0.577500   0.154846     439        2290  2729  \n",
      "\n",
      "[731 rows x 14 columns]\n"
     ]
    }
   ],
   "source": [
    "print(train)"
   ]
  },
  {
   "cell_type": "code",
   "execution_count": 13,
   "id": "90d650f1",
   "metadata": {},
   "outputs": [
    {
     "data": {
      "text/plain": [
       "(731, 14)"
      ]
     },
     "execution_count": 13,
     "metadata": {},
     "output_type": "execute_result"
    }
   ],
   "source": [
    "data.shape"
   ]
  },
  {
   "cell_type": "code",
   "execution_count": 14,
   "id": "c42fafce",
   "metadata": {},
   "outputs": [
    {
     "data": {
      "text/plain": [
       "(731, 14)"
      ]
     },
     "execution_count": 14,
     "metadata": {},
     "output_type": "execute_result"
    }
   ],
   "source": [
    "train.shape"
   ]
  },
  {
   "cell_type": "code",
   "execution_count": 15,
   "id": "6053de12",
   "metadata": {},
   "outputs": [
    {
     "data": {
      "text/plain": [
       "(0.057367444036803925, 0.1212216381117088)"
      ]
     },
     "execution_count": 15,
     "metadata": {},
     "output_type": "execute_result"
    }
   ],
   "source": [
    "from scipy.stats import pearsonr\n",
    "pearsonr(data.weekday,data.registered)"
   ]
  },
  {
   "cell_type": "code",
   "execution_count": 18,
   "id": "ac010fd0",
   "metadata": {},
   "outputs": [
    {
     "name": "stderr",
     "output_type": "stream",
     "text": [
      "C:\\Users\\madhan\\anaconda3\\lib\\site-packages\\statsmodels\\tsa\\tsatools.py:142: FutureWarning: In a future version of pandas all arguments of concat except for the argument 'objs' will be keyword-only\n",
      "  x = pd.concat(x[::order], 1)\n"
     ]
    },
    {
     "data": {
      "text/html": [
       "<div>\n",
       "<style scoped>\n",
       "    .dataframe tbody tr th:only-of-type {\n",
       "        vertical-align: middle;\n",
       "    }\n",
       "\n",
       "    .dataframe tbody tr th {\n",
       "        vertical-align: top;\n",
       "    }\n",
       "\n",
       "    .dataframe thead th {\n",
       "        text-align: right;\n",
       "    }\n",
       "</style>\n",
       "<table border=\"1\" class=\"dataframe\">\n",
       "  <thead>\n",
       "    <tr style=\"text-align: right;\">\n",
       "      <th></th>\n",
       "      <th>const</th>\n",
       "      <th>weekday</th>\n",
       "    </tr>\n",
       "  </thead>\n",
       "  <tbody>\n",
       "    <tr>\n",
       "      <th>0</th>\n",
       "      <td>1.0</td>\n",
       "      <td>6</td>\n",
       "    </tr>\n",
       "    <tr>\n",
       "      <th>1</th>\n",
       "      <td>1.0</td>\n",
       "      <td>0</td>\n",
       "    </tr>\n",
       "    <tr>\n",
       "      <th>2</th>\n",
       "      <td>1.0</td>\n",
       "      <td>1</td>\n",
       "    </tr>\n",
       "    <tr>\n",
       "      <th>3</th>\n",
       "      <td>1.0</td>\n",
       "      <td>2</td>\n",
       "    </tr>\n",
       "    <tr>\n",
       "      <th>4</th>\n",
       "      <td>1.0</td>\n",
       "      <td>3</td>\n",
       "    </tr>\n",
       "  </tbody>\n",
       "</table>\n",
       "</div>"
      ],
      "text/plain": [
       "   const  weekday\n",
       "0    1.0        6\n",
       "1    1.0        0\n",
       "2    1.0        1\n",
       "3    1.0        2\n",
       "4    1.0        3"
      ]
     },
     "execution_count": 18,
     "metadata": {},
     "output_type": "execute_result"
    }
   ],
   "source": [
    "import statsmodels.api as sm\n",
    "train_x=train.weekday\n",
    "train_y=train.registered\n",
    "train_x=sm.add_constant(train_x)\n",
    "train_x.head()"
   ]
  },
  {
   "cell_type": "code",
   "execution_count": 19,
   "id": "1b9a0b07",
   "metadata": {},
   "outputs": [],
   "source": [
    "model=sm.OLS(train_y,train_x).fit()"
   ]
  },
  {
   "cell_type": "code",
   "execution_count": 20,
   "id": "4481f92f",
   "metadata": {},
   "outputs": [
    {
     "data": {
      "text/html": [
       "<table class=\"simpletable\">\n",
       "<caption>OLS Regression Results</caption>\n",
       "<tr>\n",
       "  <th>Dep. Variable:</th>       <td>registered</td>    <th>  R-squared:         </th> <td>   0.003</td> \n",
       "</tr>\n",
       "<tr>\n",
       "  <th>Model:</th>                   <td>OLS</td>       <th>  Adj. R-squared:    </th> <td>   0.002</td> \n",
       "</tr>\n",
       "<tr>\n",
       "  <th>Method:</th>             <td>Least Squares</td>  <th>  F-statistic:       </th> <td>   2.407</td> \n",
       "</tr>\n",
       "<tr>\n",
       "  <th>Date:</th>             <td>Tue, 29 Mar 2022</td> <th>  Prob (F-statistic):</th>  <td> 0.121</td>  \n",
       "</tr>\n",
       "<tr>\n",
       "  <th>Time:</th>                 <td>20:03:47</td>     <th>  Log-Likelihood:    </th> <td> -6410.3</td> \n",
       "</tr>\n",
       "<tr>\n",
       "  <th>No. Observations:</th>      <td>   731</td>      <th>  AIC:               </th> <td>1.282e+04</td>\n",
       "</tr>\n",
       "<tr>\n",
       "  <th>Df Residuals:</th>          <td>   729</td>      <th>  BIC:               </th> <td>1.283e+04</td>\n",
       "</tr>\n",
       "<tr>\n",
       "  <th>Df Model:</th>              <td>     1</td>      <th>                     </th>     <td> </td>    \n",
       "</tr>\n",
       "<tr>\n",
       "  <th>Covariance Type:</th>      <td>nonrobust</td>    <th>                     </th>     <td> </td>    \n",
       "</tr>\n",
       "</table>\n",
       "<table class=\"simpletable\">\n",
       "<tr>\n",
       "     <td></td>        <th>coef</th>     <th>std err</th>      <th>t</th>      <th>P>|t|</th>  <th>[0.025</th>    <th>0.975]</th>  \n",
       "</tr>\n",
       "<tr>\n",
       "  <th>const</th>   <td> 3522.3532</td> <td>  103.747</td> <td>   33.951</td> <td> 0.000</td> <td> 3318.675</td> <td> 3726.031</td>\n",
       "</tr>\n",
       "<tr>\n",
       "  <th>weekday</th> <td>   44.6471</td> <td>   28.777</td> <td>    1.551</td> <td> 0.121</td> <td>  -11.849</td> <td>  101.143</td>\n",
       "</tr>\n",
       "</table>\n",
       "<table class=\"simpletable\">\n",
       "<tr>\n",
       "  <th>Omnibus:</th>       <td>38.984</td> <th>  Durbin-Watson:     </th> <td>   0.333</td>\n",
       "</tr>\n",
       "<tr>\n",
       "  <th>Prob(Omnibus):</th> <td> 0.000</td> <th>  Jarque-Bera (JB):  </th> <td>  15.657</td>\n",
       "</tr>\n",
       "<tr>\n",
       "  <th>Skew:</th>          <td> 0.036</td> <th>  Prob(JB):          </th> <td>0.000398</td>\n",
       "</tr>\n",
       "<tr>\n",
       "  <th>Kurtosis:</th>      <td> 2.287</td> <th>  Cond. No.          </th> <td>    6.84</td>\n",
       "</tr>\n",
       "</table><br/><br/>Notes:<br/>[1] Standard Errors assume that the covariance matrix of the errors is correctly specified."
      ],
      "text/plain": [
       "<class 'statsmodels.iolib.summary.Summary'>\n",
       "\"\"\"\n",
       "                            OLS Regression Results                            \n",
       "==============================================================================\n",
       "Dep. Variable:             registered   R-squared:                       0.003\n",
       "Model:                            OLS   Adj. R-squared:                  0.002\n",
       "Method:                 Least Squares   F-statistic:                     2.407\n",
       "Date:                Tue, 29 Mar 2022   Prob (F-statistic):              0.121\n",
       "Time:                        20:03:47   Log-Likelihood:                -6410.3\n",
       "No. Observations:                 731   AIC:                         1.282e+04\n",
       "Df Residuals:                     729   BIC:                         1.283e+04\n",
       "Df Model:                           1                                         \n",
       "Covariance Type:            nonrobust                                         \n",
       "==============================================================================\n",
       "                 coef    std err          t      P>|t|      [0.025      0.975]\n",
       "------------------------------------------------------------------------------\n",
       "const       3522.3532    103.747     33.951      0.000    3318.675    3726.031\n",
       "weekday       44.6471     28.777      1.551      0.121     -11.849     101.143\n",
       "==============================================================================\n",
       "Omnibus:                       38.984   Durbin-Watson:                   0.333\n",
       "Prob(Omnibus):                  0.000   Jarque-Bera (JB):               15.657\n",
       "Skew:                           0.036   Prob(JB):                     0.000398\n",
       "Kurtosis:                       2.287   Cond. No.                         6.84\n",
       "==============================================================================\n",
       "\n",
       "Notes:\n",
       "[1] Standard Errors assume that the covariance matrix of the errors is correctly specified.\n",
       "\"\"\""
      ]
     },
     "execution_count": 20,
     "metadata": {},
     "output_type": "execute_result"
    }
   ],
   "source": [
    "model.summary()"
   ]
  },
  {
   "cell_type": "code",
   "execution_count": 22,
   "id": "410bb138",
   "metadata": {},
   "outputs": [
    {
     "name": "stderr",
     "output_type": "stream",
     "text": [
      "C:\\Users\\madhan\\anaconda3\\lib\\site-packages\\statsmodels\\tsa\\tsatools.py:142: FutureWarning: In a future version of pandas all arguments of concat except for the argument 'objs' will be keyword-only\n",
      "  x = pd.concat(x[::order], 1)\n"
     ]
    },
    {
     "data": {
      "text/plain": [
       "0      3790.235818\n",
       "1      3522.353223\n",
       "2      3567.000322\n",
       "3      3611.647421\n",
       "4      3656.294520\n",
       "          ...     \n",
       "726    3700.941619\n",
       "727    3745.588718\n",
       "728    3790.235818\n",
       "729    3522.353223\n",
       "730    3567.000322\n",
       "Length: 731, dtype: float64"
      ]
     },
     "execution_count": 22,
     "metadata": {},
     "output_type": "execute_result"
    }
   ],
   "source": [
    "train_x=train.weekday\n",
    "train_y=train.registered\n",
    "train_x=sm.add_constant(train_x)\n",
    "model.predict(train_x)"
   ]
  },
  {
   "cell_type": "code",
   "execution_count": 27,
   "id": "afffea78",
   "metadata": {},
   "outputs": [
    {
     "data": {
      "text/plain": [
       "<AxesSubplot:xlabel='weekday', ylabel='registered'>"
      ]
     },
     "execution_count": 27,
     "metadata": {},
     "output_type": "execute_result"
    },
    {
     "data": {
      "image/png": "[encoded data removed]",
      "text/plain": [
       "<Figure size 432x288 with 1 Axes>"
      ]
     },
     "metadata": {
      "needs_background": "light"
     },
     "output_type": "display_data"
    }
   ],
   "source": [
    "\n",
    "sns.scatterplot(x=train.weekday,y=train.registered)\n",
    "sns.scatterplot(x=train.weekday,y=train.registered)\n"
   ]
  },
  {
   "cell_type": "code",
   "execution_count": null,
   "id": "113c9caf",
   "metadata": {},
   "outputs": [],
   "source": []
  }
 ],
 "metadata": {
  "kernelspec": {
   "display_name": "Python 3 (ipykernel)",
   "language": "python",
   "name": "python3"
  },
  "language_info": {
   "codemirror_mode": {
    "name": "ipython",
    "version": 3
   },
   "file_extension": ".py",
   "mimetype": "text/x-python",
   "name": "python",
   "nbconvert_exporter": "python",
   "pygments_lexer": "ipython3",
   "version": "3.9.7"
  }
 },
 "nbformat": 4,
 "nbformat_minor": 5
}
